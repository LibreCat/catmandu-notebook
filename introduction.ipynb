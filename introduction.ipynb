{
 "cells": [
  {
   "cell_type": "markdown",
   "metadata": {},
   "source": [
    "**Catmandu** is toolkit for import, export, storage, retrieval, and transformation of data. It can be used on the command line and as Perl programming library. The command line client `catmandu` lists possible commands by default:"
   ]
  },
  {
   "cell_type": "code",
   "execution_count": 3,
   "metadata": {},
   "outputs": [
    {
     "name": "stdout",
     "output_type": "stream",
     "text": [
      "  commands: list the application's commands\n",
      "      help: show help\n",
      "\n",
      "   compile: compile a Fix into Perl (for debugging)\n",
      "    config: export the Catmandu config\n",
      "   convert: convert items\n",
      "      copy: copy items from one store to another\n",
      "     count: count the number of items in a bag\n",
      "    delete: delete items from a store\n",
      "      drop: drop a store or one of its bags\n",
      "    export: export items from a store\n",
      "    import: import items into a store\n",
      "      info: list installed Catmandu modules\n",
      "       run: run a fix command\n",
      "    stream: import and export streams into a Catmandu::FileStore\n",
      "     touch: add the current datetime to the items in a bag\n",
      "\n"
     ]
    }
   ],
   "source": [
    "catmandu"
   ]
  },
  {
   "cell_type": "markdown",
   "metadata": {},
   "source": [
    "The `convert` command can be used to convert between data formats, for instance from CSV to JSON:"
   ]
  },
  {
   "cell_type": "code",
   "execution_count": 11,
   "metadata": {},
   "outputs": [
    {
     "name": "stdout",
     "output_type": "stream",
     "text": [
      "[{\"title\":\"A Vindication of the Rights of Woman\",\"author\":\"Mary Wollstonecraft\",\"year\":\"1792\"}]\n"
     ]
    }
   ],
   "source": [
    "catmandu convert CSV to JSON < example.csv"
   ]
  },
  {
   "cell_type": "markdown",
   "metadata": {},
   "source": [
    "Options change how formats are imported and exported:"
   ]
  },
  {
   "cell_type": "code",
   "execution_count": 13,
   "metadata": {},
   "outputs": [
    {
     "name": "stdout",
     "output_type": "stream",
     "text": [
      "{\n",
      "   \"author\" : \"Mary Wollstonecraft\",\n",
      "   \"title\" : \"A Vindication of the Rights of Woman\",\n",
      "   \"year\" : \"1792\"\n",
      "}"
     ]
    }
   ],
   "source": [
    "catmandu convert CSV to JSON --pretty 1 --array 0 < example.csv"
   ]
  },
  {
   "cell_type": "code",
   "execution_count": null,
   "metadata": {},
   "outputs": [],
   "source": []
  }
 ],
 "metadata": {
  "kernelspec": {
   "display_name": "Bash",
   "language": "bash",
   "name": "bash"
  },
  "language_info": {
   "codemirror_mode": "shell",
   "file_extension": ".sh",
   "mimetype": "text/x-sh",
   "name": "bash"
  }
 },
 "nbformat": 4,
 "nbformat_minor": 2
}
